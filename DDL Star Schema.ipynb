{
    "metadata": {
        "kernelspec": {
            "name": "SQL",
            "display_name": "SQL",
            "language": "sql"
        },
        "language_info": {
            "name": "sql",
            "version": ""
        }
    },
    "nbformat_minor": 2,
    "nbformat": 4,
    "cells": [
        {
            "cell_type": "markdown",
            "source": [
                "```\n",
                "Fisrtly we create all our Schemas\n",
                "\n",
                "```"
            ],
            "metadata": {
                "language": "sql",
                "azdata_cell_guid": "c873d1b0-3082-4b1f-b251-6680dc314a33"
            },
            "attachments": {}
        },
        {
            "cell_type": "code",
            "source": [
                "IF NOT EXISTS (SELECT * FROM sys.schemas WHERE name = 'dim' ) \r\n",
                "BEGIN\r\n",
                "\tEXEC sp_executesql N'CREATE SCHEMA dim AUTHORIZATION dbo;'\r\n",
                "END\r\n",
                ";\r\n",
                "\r\n",
                "GO\r\n",
                "\r\n",
                "IF NOT EXISTS (SELECT * FROM sys.schemas WHERE name = 'stg' ) \r\n",
                "BEGIN\r\n",
                "\tEXEC sp_executesql N'CREATE SCHEMA stg AUTHORIZATION dbo;'\r\n",
                "END\r\n",
                ";\r\n",
                "\r\n",
                "GO\r\n",
                "\r\n",
                "IF NOT EXISTS (SELECT * FROM sys.schemas WHERE name = 'f' ) \r\n",
                "BEGIN\r\n",
                "\tEXEC sp_executesql N'CREATE SCHEMA f AUTHORIZATION dbo;'\r\n",
                "END\r\n",
                ";\r\n",
                ""
            ],
            "metadata": {
                "azdata_cell_guid": "c0622a12-de26-44d1-826c-354385d9d94d",
                "language": "sql"
            },
            "outputs": [
                {
                    "output_type": "display_data",
                    "data": {
                        "text/html": "Commands completed successfully."
                    },
                    "metadata": {}
                },
                {
                    "output_type": "display_data",
                    "data": {
                        "text/html": "Commands completed successfully."
                    },
                    "metadata": {}
                },
                {
                    "output_type": "display_data",
                    "data": {
                        "text/html": "Commands completed successfully."
                    },
                    "metadata": {}
                },
                {
                    "output_type": "display_data",
                    "data": {
                        "text/html": "Total execution time: 00:00:00.006"
                    },
                    "metadata": {}
                }
            ],
            "execution_count": 10
        },
        {
            "cell_type": "markdown",
            "source": [
                "**Calendar Dimension**"
            ],
            "metadata": {
                "language": "sql",
                "azdata_cell_guid": "1046779a-bc5a-4b79-a7a6-9708a01aa73c"
            },
            "attachments": {}
        },
        {
            "cell_type": "code",
            "source": [
                "\r\n",
                "IF NOT EXISTS (SELECT * FROM INFORMATION_SCHEMA.TABLES WHERE TABLE_SCHEMA = 'dim' AND TABLE_NAME = 'Calendar')\r\n",
                "BEGIN\r\n",
                "-- Create the Calendar table\r\n",
                "CREATE TABLE dim.Calendar\r\n",
                "(\r\n",
                "    pkCalendar INT NOT NULL,\r\n",
                "    DateValue DATE NOT NULL,\r\n",
                "    Year INT NOT NULL,\r\n",
                "    Quarter INT NOT NULL,\r\n",
                "\tQtr VARCHAR(3) NOT NULL,\r\n",
                "    Month INT NOT NULL,\r\n",
                "    MonthName VARCHAR(10) NOT NULL,\r\n",
                "\tMonthShort VARCHAR(3) NOT NULL,\r\n",
                "    Week INT NOT NULL,\r\n",
                "    Day INT NOT NULL,\r\n",
                "\tDayName VARCHAR(10) NOT NULL,\r\n",
                "\tDayShort VARCHAR(3) NOT NULL,\r\n",
                "    IsWeekday BIT NOT NULL,\r\n",
                "\tWeekday VARCHAR(3) NOT NULL\r\n",
                ");\r\n",
                "\r\n",
                "\tALTER TABLE dim.Calendar\r\n",
                "\tADD CONSTRAINT PK_Calendar_Julien PRIMARY KEY(pkCalendar);\r\n",
                "END\r\n",
                "\r\n",
                "GO\r\n",
                ""
            ],
            "metadata": {
                "language": "sql",
                "azdata_cell_guid": "2dae7918-db63-498e-a7f5-382129b16f5f"
            },
            "outputs": [
                {
                    "output_type": "display_data",
                    "data": {
                        "text/html": "Commands completed successfully."
                    },
                    "metadata": {}
                },
                {
                    "output_type": "display_data",
                    "data": {
                        "text/html": "Total execution time: 00:00:00.017"
                    },
                    "metadata": {}
                }
            ],
            "execution_count": 4
        },
        {
            "cell_type": "markdown",
            "source": [
                "**This is the statement for Populating the Calender table created**"
            ],
            "metadata": {
                "language": "sql",
                "azdata_cell_guid": "160c3c53-1d90-4e86-a57c-c709dfcda30d"
            },
            "attachments": {}
        },
        {
            "cell_type": "code",
            "source": [
                "\r\n",
                "IF (SELECT count(*) FROM dim.Calendar) = 0\r\n",
                "BEGIN\r\n",
                "-- Declare variables\r\n",
                "DECLARE @StartDate DATE = '2020-01-01'\r\n",
                "DECLARE @EndDate DATE = DATEADD(year, 0, GETDATE())\r\n",
                "DECLARE @Date DATE = @StartDate\r\n",
                "DECLARE @DayID INT = (datepart(year, @StartDate)-1900)*1000 + datepart(dy, @StartDate)\r\n",
                ";\r\n",
                "\r\n",
                "\r\n",
                "-- Populate the Calendar table\r\n",
                "WHILE @Date <= @EndDate\r\n",
                "\tBEGIN\r\n",
                "\t\tINSERT INTO dim.Calendar (pkCalendar, DateValue, Year, Quarter, Qtr, Month,  MonthName, MonthShort, Week, Day, DayName, DayShort, IsWeekday, Weekday)\r\n",
                "\t\tVALUES (\r\n",
                "\t\t\t@DayID,\r\n",
                "\t\t\t@Date,\r\n",
                "\t\t\tYEAR(@Date),\r\n",
                "\t\t\tDATEPART(QUARTER, @Date),\r\n",
                "\t\t\tCASE WHEN DATEPART(QUARTER, @Date) IN (1) THEN '1st'\r\n",
                "\t\t\t\t WHEN DATEPART(QUARTER, @Date) IN (2) THEN '2nd'\r\n",
                "\t\t\t\t WHEN DATEPART(QUARTER, @Date) IN (3) THEN '3rd'\r\n",
                "\t\t\t\t WHEN DATEPART(QUARTER, @Date) IN (4) THEN '4th'\r\n",
                "\t\t\t\t ELSE '5th'\r\n",
                "\t\t\t\t END,\r\n",
                "\t\t\tMONTH(@Date),\r\n",
                "\t\t\tDATENAME(MONTH, @Date),\r\n",
                "\t\t\tLEFT(DATENAME(MONTH, @Date),3),\r\n",
                "\t\t\tDATEPART(WEEK, @Date),\r\n",
                "\t\t\tDAY(@Date),\r\n",
                "\t\t\tDATENAME(WEEKDAY, @Date),\r\n",
                "\t\t\tLEFT(DATENAME(WEEKDAY, @Date),3),\r\n",
                "\t\t\tCASE WHEN DATEPART(WEEKDAY, @Date) IN (1, 7) THEN 0 ELSE 1 END, -- Set IsWeekday to 0 for Saturday (1) and Sunday (7), and 1 for weekdays\r\n",
                "\t\t\tCASE WHEN DATEPART(WEEKDAY, @Date) IN (1, 7) THEN 'No' ELSE 'Yes' END\r\n",
                "\t )\r\n",
                "\r\n",
                "\t\t-- Increment the date and day ID\r\n",
                "\t\tSET @Date = DATEADD(DAY, 1, @Date)\r\n",
                "\t\tSET @DayID = @DayID + 1\r\n",
                "\tEND\r\n",
                "END\r\n",
                "GO\r\n",
                ""
            ],
            "metadata": {
                "language": "sql",
                "azdata_cell_guid": "b1a817a7-47a4-4d68-b55c-51e6893a6027"
            },
            "outputs": [
                {
                    "output_type": "display_data",
                    "data": {
                        "text/html": "Commands completed successfully."
                    },
                    "metadata": {}
                },
                {
                    "output_type": "display_data",
                    "data": {
                        "text/html": "Total execution time: 00:00:00.027"
                    },
                    "metadata": {}
                }
            ],
            "execution_count": 3
        },
        {
            "cell_type": "markdown",
            "source": [
                "**Customer Dimension Table Creation**"
            ],
            "metadata": {
                "language": "sql",
                "azdata_cell_guid": "dbf622ba-aef0-4048-a5ed-29e41d517ec2"
            },
            "attachments": {}
        },
        {
            "cell_type": "code",
            "source": [
                "IF NOT EXISTS (SELECT * FROM INFORMATION_SCHEMA.TABLES WHERE TABLE_SCHEMA = 'dim' AND TABLE_NAME = 'Customers')\r\n",
                "BEGIN\r\n",
                "\tCREATE TABLE dim.Customers(\r\n",
                "\tpkCustomer int IDENTITY(1,1),\r\n",
                "\tCustomerID nvarchar(5) NOT NULL,\r\n",
                "\tCustomer nvarchar(40) NOT NULL,\r\n",
                "\tCity nvarchar(15) NULL,\r\n",
                "\tCountry nvarchar(15) NULL,\r\n",
                "\tLoadDate DATE NOT NULL,\r\n",
                "\tSourceCountry nvarchar(25) NOT NULL\r\n",
                "\t)\r\n",
                "\t;\r\n",
                "\r\n",
                "\tALTER TABLE dim.Customers\r\n",
                "\tADD CONSTRAINT PK_Customers_LUP PRIMARY KEY(pkCustomer);\r\n",
                "\r\n",
                "\tALTER TABLE dim.Customers\r\n",
                "    ADD CONSTRAINT UC_Customers_ID UNIQUE (CustomerID);\r\n",
                "\r\n",
                "END\r\n",
                ""
            ],
            "metadata": {
                "language": "sql",
                "azdata_cell_guid": "935a0292-d7ca-457d-9e05-8b533065020e",
                "tags": []
            },
            "outputs": [],
            "execution_count": null
        },
        {
            "cell_type": "markdown",
            "source": [
                "**Populating the Customer Table Exracting Data from Database <span style=\"color: rgb(33, 33, 33); font-family: Consolas, &quot;Courier New&quot;, monospace; font-size: 12px; white-space: pre;\">[Northwind-2023]</span>**"
            ],
            "metadata": {
                "language": "sql",
                "azdata_cell_guid": "38c5cd93-e559-4da6-8d87-5e3fbd88214b"
            },
            "attachments": {}
        },
        {
            "cell_type": "code",
            "source": [
                "GO\r\n",
                "\r\n",
                "INSERT INTO dim.Customers(CustomerID, Customer, City, Country, LoadDate, SourceCountry)\r\n",
                "\tSELECT nwc.CustomerID\r\n",
                "\t\t  ,nwc.CompanyName \r\n",
                "\t\t  ,nwc.City\r\n",
                "\t\t  ,nwc.Country\r\n",
                "\t\t  ,CAST(getdate() as DATE)\r\n",
                "\t\t  ,concat('Country = ', nwc.Country) \r\n",
                "\tFROM [Northwind-2023].dbo.Customers nwc\r\n",
                "\tWHERE nwc.CustomerID not in (SELECT CustomerID FROM dim.Customers)\r\n",
                "\r\n",
                ";\r\n",
                ""
            ],
            "metadata": {
                "azdata_cell_guid": "9ba9950c-214c-4fdc-b183-c41b6113b05b",
                "language": "sql"
            },
            "outputs": [
                {
                    "output_type": "display_data",
                    "data": {
                        "text/html": "(0 rows affected)"
                    },
                    "metadata": {}
                },
                {
                    "output_type": "display_data",
                    "data": {
                        "text/html": "Total execution time: 00:00:00.004"
                    },
                    "metadata": {}
                }
            ],
            "execution_count": 9
        },
        {
            "cell_type": "markdown",
            "source": [
                "**Creating The Shipper Dimension Table.**"
            ],
            "metadata": {
                "language": "sql",
                "azdata_cell_guid": "92806eac-ef28-4283-8ded-f48c5490e496"
            },
            "attachments": {}
        },
        {
            "cell_type": "code",
            "source": [
                "IF NOT EXISTS (SELECT * FROM INFORMATION_SCHEMA.TABLES WHERE TABLE_SCHEMA = 'dim' AND TABLE_NAME = 'Shipper')\r\n",
                "BEGIN\r\n",
                "-- Create the Calendar table\r\n",
                "CREATE TABLE dim.Shipper\r\n",
                "(\r\n",
                "    pkShipId int not null,\r\n",
                "\tShipper nvarchar(40) not null,\r\n",
                "\tPhone nvarchar(24) null\r\n",
                ");\r\n",
                "\r\n",
                "\tALTER TABLE dim.Shipper\r\n",
                "\tADD CONSTRAINT PK_Ship PRIMARY KEY(pkShipId);\r\n",
                "END\r\n",
                ""
            ],
            "metadata": {
                "azdata_cell_guid": "41ae398e-691c-490c-bc49-a3291eb21d84",
                "language": "sql"
            },
            "outputs": [
                {
                    "output_type": "display_data",
                    "data": {
                        "text/html": "Commands completed successfully."
                    },
                    "metadata": {}
                },
                {
                    "output_type": "display_data",
                    "data": {
                        "text/html": "Total execution time: 00:00:00.008"
                    },
                    "metadata": {}
                }
            ],
            "execution_count": 11
        },
        {
            "cell_type": "markdown",
            "source": [
                "**Populating The Shipper's Dimension Table.**"
            ],
            "metadata": {
                "azdata_cell_guid": "4494ac79-e47c-4c14-a2b8-f74aab52d7d9"
            },
            "attachments": {}
        },
        {
            "cell_type": "code",
            "source": [
                "GO\r\n",
                "\r\n",
                "INSERT INTO dim.Shipper(pkShipId, Shipper, Phone)\r\n",
                "SELECT s_sh.ShipperID\r\n",
                "      ,s_sh.CompanyName\r\n",
                "      ,s_sh.Phone\r\n",
                "FROM [Northwind-2023].dbo.Shippers s_sh\r\n",
                "WHERE s_sh.ShipperID not in (SELECT pkShipId FROM dim.Shipper)\r\n",
                ";\r\n",
                "GO"
            ],
            "metadata": {
                "azdata_cell_guid": "30742126-ac6f-4a3b-8dea-5c56acbf1b1b",
                "language": "sql"
            },
            "outputs": [
                {
                    "output_type": "display_data",
                    "data": {
                        "text/html": "(0 rows affected)"
                    },
                    "metadata": {}
                },
                {
                    "output_type": "display_data",
                    "data": {
                        "text/html": "Total execution time: 00:00:00"
                    },
                    "metadata": {}
                }
            ],
            "execution_count": 12
        },
        {
            "cell_type": "markdown",
            "source": [
                "**Creating Product Dimension Table**"
            ],
            "metadata": {
                "language": "sql",
                "azdata_cell_guid": "9c946caa-3fe4-4cff-9a02-949ee4e2b619"
            },
            "attachments": {}
        },
        {
            "cell_type": "code",
            "source": [
                "IF NOT EXISTS (SELECT * FROM INFORMATION_SCHEMA.TABLES WHERE TABLE_SCHEMA = 'dim' AND TABLE_NAME = 'Products')\r\n",
                "BEGIN\r\n",
                "CREATE TABLE dim.Products(\r\n",
                "\tpkProdId int NOT NULL,\r\n",
                "\tProductId int NOT NULL,\r\n",
                "\tProduct nvarchar(50) NOT NULL,\r\n",
                "\tProductCategory nvarchar(25) NOT NULL,\r\n",
                "\tCategoryDesc ntext NULL,\r\n",
                "\tUnitPrice money NULL,\r\n",
                "\tUnitsInStock int NULL,\r\n",
                "\tUnitsOnOrder int NULL,\r\n",
                "\tReorderLevel int NULL,\r\n",
                "\tDiscontinued bit NOT NULL,\r\n",
                "\tReorderFlag nvarchar(3) NOT NULL\r\n",
                ");\r\n",
                "\r\n",
                "\tALTER TABLE dim.Products\r\n",
                "\tADD CONSTRAINT PK_Prods PRIMARY KEY(pkProdId);\r\n",
                "\r\n",
                "\tALTER TABLE dim.Products\r\n",
                "    ADD CONSTRAINT UC_Prods UNIQUE (ProductId);\r\n",
                "END\r\n",
                ";\r\n",
                "GO\r\n",
                ""
            ],
            "metadata": {
                "azdata_cell_guid": "0f8dc7c0-35f7-4a42-9efe-3b38d8a4aed7",
                "language": "sql"
            },
            "outputs": [
                {
                    "output_type": "display_data",
                    "data": {
                        "text/html": "Commands completed successfully."
                    },
                    "metadata": {}
                },
                {
                    "output_type": "display_data",
                    "data": {
                        "text/html": "Total execution time: 00:00:00.010"
                    },
                    "metadata": {}
                }
            ],
            "execution_count": 13
        },
        {
            "cell_type": "markdown",
            "source": [
                "**Populating Product Dimension Table.**"
            ],
            "metadata": {
                "azdata_cell_guid": "019fc2e7-bdb1-4ef7-a325-a611dfb5ce04"
            },
            "attachments": {}
        },
        {
            "cell_type": "code",
            "source": [
                "\r\n",
                "INSERT INTO dim.Products(pkProdId, ProductId, Product, ProductCategory, CategoryDesc, UnitPrice, UnitsInStock, UnitsOnOrder, ReorderLevel, Discontinued, ReorderFlag)\r\n",
                "SELECT prod.ProductID + 10000 as 'pkProdId'\r\n",
                "      , prod.ProductID as 'ProductId'\r\n",
                "      , prod.ProductName as 'Product'\r\n",
                "\t  , cat.CategoryName as 'ProductCategory'\r\n",
                "\t  , cat.[Description] as 'CategoryDesc'\r\n",
                "\t  , prod.UnitPrice\r\n",
                "\t  , prod.UnitsInStock\r\n",
                "\t  , prod.UnitsOnOrder\r\n",
                "\t  , prod.ReorderLevel\r\n",
                "\t  , prod.Discontinued\r\n",
                "\t  , CASE \r\n",
                "\t\t\tWHEN prod.ReorderLevel >= (prod.UnitsInStock + prod.UnitsOnOrder)\r\n",
                "\t\t\t     AND prod.Discontinued = 0\r\n",
                "\t\t\t THEN 'Yes'\r\n",
                "\t      ELSE 'No'\r\n",
                "\t    END as 'ReorderFlag'\r\n",
                "FROM [Northwind-2023].dbo.Products prod\r\n",
                "\tINNER JOIN [Northwind-2023].dbo.Categories cat\r\n",
                "\tON prod.CategoryID = cat.CategoryID\r\n",
                "WHERE prod.ProductID not in (SELECT ProductId FROM dim.Products)\r\n",
                ";\r\n",
                "\r\n",
                "\r\n",
                "\r\n",
                "GO\r\n",
                "\r\n",
                ""
            ],
            "metadata": {
                "azdata_cell_guid": "31e87fbc-e58e-4cd8-9f7b-2e2c757e8b7b",
                "language": "sql"
            },
            "outputs": [
                {
                    "output_type": "display_data",
                    "data": {
                        "text/html": "(0 rows affected)"
                    },
                    "metadata": {}
                },
                {
                    "output_type": "display_data",
                    "data": {
                        "text/html": "Total execution time: 00:00:00.027"
                    },
                    "metadata": {}
                }
            ],
            "execution_count": 14
        },
        {
            "cell_type": "markdown",
            "source": [
                "**Creating Employee Dimension Table**"
            ],
            "metadata": {
                "azdata_cell_guid": "945996c0-2210-4d2d-aab6-5f62b57da8c1"
            },
            "attachments": {}
        },
        {
            "cell_type": "code",
            "source": [
                "IF NOT EXISTS (SELECT * FROM INFORMATION_SCHEMA.TABLES WHERE TABLE_SCHEMA = 'dim' AND TABLE_NAME = 'Employees')\r\n",
                "BEGIN\r\n",
                "CREATE TABLE dim.Employees(\r\n",
                "\tEmployeeID int NOT NULL,\r\n",
                "\tEmployee nvarchar(50) NOT NULL,\r\n",
                "\tTitle nvarchar(30) NULL,\r\n",
                "\tBirthDate datetime NULL,\r\n",
                "\tHireDate datetime NULL,\r\n",
                "\tCity nvarchar(15) NULL,\r\n",
                "\tCountry nvarchar(15) NULL,\r\n",
                "\tReportsTo int NULL\r\n",
                ");\r\n",
                "\tALTER TABLE dim.Employees\r\n",
                "\tADD CONSTRAINT PK_Emp PRIMARY KEY(EmployeeID);\r\n",
                "\r\n",
                "END\r\n",
                "\r\n",
                "GO"
            ],
            "metadata": {
                "azdata_cell_guid": "81f0647d-0be8-441c-95b9-d77bc0ab9381",
                "language": "sql"
            },
            "outputs": [
                {
                    "output_type": "display_data",
                    "data": {
                        "text/html": "Commands completed successfully."
                    },
                    "metadata": {}
                },
                {
                    "output_type": "display_data",
                    "data": {
                        "text/html": "Total execution time: 00:00:00.010"
                    },
                    "metadata": {}
                }
            ],
            "execution_count": 15
        },
        {
            "cell_type": "markdown",
            "source": [
                "**Populating the Employee Dimension Table**"
            ],
            "metadata": {
                "azdata_cell_guid": "25fa83b6-ed15-47b0-89ba-b078d253f2cd"
            },
            "attachments": {}
        },
        {
            "cell_type": "code",
            "source": [
                "INSERT INTO dim.Employees(EmployeeID, Employee, Title, BirthDate, HireDate, City, Country, ReportsTo)\r\n",
                "SELECT sEmp.EmployeeID\r\n",
                "\t  ,concat( sEmp.TitleOfCourtesy, ' ', sEmp.FirstName, ', ', sEmp.LastName)\r\n",
                "      ,sEmp.Title\r\n",
                "      ,sEmp.BirthDate\r\n",
                "      ,sEmp.HireDate\r\n",
                "      ,sEmp.City\r\n",
                "      ,sEmp.Country\r\n",
                "      ,sEmp.ReportsTo\r\n",
                "FROM [Northwind-2023].dbo.Employees sEmp\r\n",
                "WHERE sEmp.EmployeeID not in (SELECT EmployeeID FROM dim.Employees)\r\n",
                ""
            ],
            "metadata": {
                "azdata_cell_guid": "654f0440-a957-4a64-b677-fe9429ac3484",
                "language": "sql"
            },
            "outputs": [
                {
                    "output_type": "display_data",
                    "data": {
                        "text/html": "(0 rows affected)"
                    },
                    "metadata": {}
                },
                {
                    "output_type": "display_data",
                    "data": {
                        "text/html": "Total execution time: 00:00:00.004"
                    },
                    "metadata": {}
                }
            ],
            "execution_count": 16
        },
        {
            "cell_type": "markdown",
            "source": [
                "**Creating Our OrderPerf Fact Table**"
            ],
            "metadata": {
                "azdata_cell_guid": "b7f04a11-8558-4542-8e45-5bec26c02a19"
            },
            "attachments": {}
        },
        {
            "cell_type": "code",
            "source": [
                "IF EXISTS (SELECT * FROM INFORMATION_SCHEMA.TABLES WHERE TABLE_SCHEMA = 'f' AND TABLE_NAME = 'OrderPerf')\r\n",
                "BEGIN \r\n",
                "\tDROP TABLE f.OrderPerf;\r\n",
                "END\r\n",
                "\r\n",
                "GO\r\n",
                "\r\n",
                "CREATE TABLE f.OrderPerf(\r\n",
                "\tOrderID int NOT NULL,\r\n",
                "\tfkCalendar int NOT NULL,\r\n",
                "\tfkCustomer int NOT NULL,\r\n",
                "\tfkShipper int NULL,\r\n",
                "\tfkEmployee int NULL,\r\n",
                "\tFreight money NOT NULL,\r\n",
                "\tDaysToShip int NULL,\r\n",
                "\tDaysTilRequired int NULL,\r\n",
                "\tOrderCount int NOT NULL\r\n",
                ");\r\n",
                "\r\n",
                "\r\n",
                "\r\n",
                "ALTER TABLE f.OrderPerf\r\n",
                "ADD CONSTRAINT PK_ORD PRIMARY KEY(OrderID)\r\n",
                ";\r\n",
                "\r\n",
                "ALTER TABLE f.OrderPerf\r\n",
                "ADD CONSTRAINT FK_ORDtoCAL\r\n",
                "\tFOREIGN KEY (fkCalendar)              \r\n",
                "\t REFERENCES  dim.Calendar(pkCalendar) \r\n",
                ";\r\n",
                "\r\n",
                "ALTER TABLE f.OrderPerf\r\n",
                "ADD CONSTRAINT FK_ORDtoCUST\r\n",
                "\tFOREIGN KEY (fkCustomer)             \r\n",
                "\t REFERENCES  dim.Customers(pkCustomer) \r\n",
                ";\r\n",
                "\r\n",
                "ALTER TABLE f.OrderPerf\r\n",
                "ADD CONSTRAINT FK_ORDtoSHIP\r\n",
                "\tFOREIGN KEY (fkShipper)\r\n",
                "\t REFERENCES dim.Shipper(pkShipId)\r\n",
                ";\r\n",
                "\r\n",
                "ALTER TABLE f.OrderPerf\r\n",
                "ADD CONSTRAINT FK_ORDtoEMP\r\n",
                "\tFOREIGN KEY (fkEmployee)\r\n",
                "\t REFERENCES dim.Employees(EmployeeID)\r\n",
                ";"
            ],
            "metadata": {
                "azdata_cell_guid": "459ef8a4-6da2-4fd4-bfc1-055b2d8f6dcc",
                "language": "sql"
            },
            "outputs": [
                {
                    "output_type": "display_data",
                    "data": {
                        "text/html": "Commands completed successfully."
                    },
                    "metadata": {}
                },
                {
                    "output_type": "display_data",
                    "data": {
                        "text/html": "Commands completed successfully."
                    },
                    "metadata": {}
                },
                {
                    "output_type": "display_data",
                    "data": {
                        "text/html": "Total execution time: 00:00:00.025"
                    },
                    "metadata": {}
                }
            ],
            "execution_count": 26
        },
        {
            "cell_type": "markdown",
            "source": [
                "**Populating The OrderPerf Fact Table**"
            ],
            "metadata": {
                "language": "sql",
                "azdata_cell_guid": "c51bbf79-693a-4344-a945-d2bf886e0ec2"
            },
            "attachments": {}
        },
        {
            "cell_type": "code",
            "source": [
                "TRUNCATE TABLE f.OrderPerf\r\n",
                "GO\r\n",
                "\r\n",
                "INSERT INTO f.OrderPerf(OrderID, fkCalendar, fkCustomer, fkShipper, fkEmployee, Freight, DaysToShip, DaysTilRequired, OrderCount)\r\n",
                "SELECT sO.OrderID\r\n",
                "\t  ,tC.pkCalendar as fkCalendar\r\n",
                "\t  ,tCus.pkCustomer as fkCustomer\r\n",
                "\t  ,sO.ShipVia as fkShipper\r\n",
                "\t  ,sO.EmployeeID as fkEmployee\r\n",
                "\t  ,sO.Freight\r\n",
                "\t  ,DATEDIFF ( day , sO.OrderDate , sO.ShippedDate ) as 'DaysToShip'\r\n",
                "\t  ,DATEDIFF ( day , sO.OrderDate , sO.RequireDate ) as 'DaysTilRequired'\r\n",
                "\t  , 1 as 'OrderCount'\r\n",
                "FROM [Northwind-2023].dbo.Orders sO\r\n",
                "\tINNER JOIN TargetMart.dim.Calendar tC\r\n",
                "\tON cast(so.OrderDate as DATE) = tc.DateValue\r\n",
                "\tINNER JOIN TargetMart.dim.Customers tCus\r\n",
                "\tON sO.CustomerID = tCus.CustomerID\r\n",
                "; "
            ],
            "metadata": {
                "language": "sql",
                "azdata_cell_guid": "ac335c84-5cd6-4f74-aa46-76687056cfa0"
            },
            "outputs": [
                {
                    "output_type": "display_data",
                    "data": {
                        "text/html": "Commands completed successfully."
                    },
                    "metadata": {}
                },
                {
                    "output_type": "display_data",
                    "data": {
                        "text/html": "(830 rows affected)"
                    },
                    "metadata": {}
                },
                {
                    "output_type": "display_data",
                    "data": {
                        "text/html": "Total execution time: 00:00:00.031"
                    },
                    "metadata": {}
                }
            ],
            "execution_count": 29
        },
        {
            "cell_type": "markdown",
            "source": [
                "**Creating Productperf Fact Table**"
            ],
            "metadata": {
                "azdata_cell_guid": "7b457f32-b7ee-498b-81e2-400057990784"
            },
            "attachments": {}
        },
        {
            "cell_type": "code",
            "source": [
                "\r\n",
                "IF EXISTS (SELECT * FROM INFORMATION_SCHEMA.TABLES WHERE TABLE_SCHEMA = 'f' AND TABLE_NAME = 'ProductPerf')\r\n",
                "BEGIN \r\n",
                "\tDROP TABLE f.ProductPerf;\r\n",
                "END\r\n",
                "\r\n",
                "CREATE TABLE f.ProductPerf(\r\n",
                "\tOrderID int NOT NULL,\r\n",
                "\tOrderDate int NOT NULL,\r\n",
                "\tProductID int NOT NULL,\r\n",
                "\tCustomerID int NOT NULL,\r\n",
                "\tUnitPrice money NOT NULL,\r\n",
                "\tQuantity smallint NOT NULL,\r\n",
                "\tDiscount float NOT NULL,\r\n",
                "\tDiscFlag int NOT NULL,\r\n",
                "\tLineTotal money NULL\r\n",
                ");\r\n",
                "\r\n",
                "ALTER TABLE f.ProductPerf\r\n",
                "ADD CONSTRAINT PK_ProdPerf PRIMARY KEY(OrderID, ProductID)\r\n",
                "\r\n",
                "ALTER TABLE f.ProductPerf\r\n",
                "ADD CONSTRAINT FK_PRODtoCAL\r\n",
                "\tFOREIGN KEY (OrderDate)\r\n",
                "\t REFERENCES dim.Calendar(pkCalendar)\r\n",
                ";\r\n",
                "\r\n",
                "ALTER TABLE f.ProductPerf\r\n",
                "ADD CONSTRAINT FK_PRODtoPROD\r\n",
                "\tFOREIGN KEY (ProductID)\r\n",
                "\t REFERENCES dim.Products(pkProdId)\r\n",
                ";\r\n",
                "\r\n",
                "ALTER TABLE f.ProductPerf\r\n",
                "ADD CONSTRAINT FK_PRODtoCUST\r\n",
                "\tFOREIGN KEY (CustomerID)\r\n",
                "\t REFERENCES dim.Customers(pkCustomer)\r\n",
                ";"
            ],
            "metadata": {
                "azdata_cell_guid": "52728b74-3fc7-498f-a317-0e932d99070a",
                "language": "sql"
            },
            "outputs": [
                {
                    "output_type": "display_data",
                    "data": {
                        "text/html": "Commands completed successfully."
                    },
                    "metadata": {}
                },
                {
                    "output_type": "display_data",
                    "data": {
                        "text/html": "Total execution time: 00:00:00.023"
                    },
                    "metadata": {}
                }
            ],
            "execution_count": 22
        },
        {
            "cell_type": "markdown",
            "source": [
                "**Populating The ProductPerf Fact Table.**"
            ],
            "metadata": {
                "azdata_cell_guid": "96b8096d-6a18-4e6f-8192-e29fbb8a2a88"
            },
            "attachments": {}
        },
        {
            "cell_type": "code",
            "source": [
                "TRUNCATE TABLE f.ProductPerf\r\n",
                "GO\r\n",
                "\r\n",
                "INSERT INTO f.ProductPerf(OrderID, OrderDate, ProductID, CustomerID, UnitPrice, Quantity, Discount, DiscFlag, LineTotal)\r\n",
                "SELECT sDet.OrderID\r\n",
                "      ,tCal.pkCalendar as 'OrderDate'\r\n",
                "      ,sDet.ProductID + 10000 as 'ProductID'\r\n",
                "--\t  ,sOrd.CustomerID\r\n",
                "\t  ,tCust.pkCustomer\r\n",
                "      ,sDet.UnitPrice\r\n",
                "      ,sDet.Quantity\r\n",
                "      ,sDet.Discount\r\n",
                "\t  ,CASE \r\n",
                "\t\t WHEN sDet.Discount = 0 THEN 0\r\n",
                "\t\t ELSE 1\r\n",
                "\t   END as 'DiscFlag'\r\n",
                "\t  ,CAST(((1 - sDet.Discount) * sDet.UnitPrice) * sDet.Quantity as MONEY) as 'LineTotal'\r\n",
                "FROM [Northwind-2023].dbo.OrderDetails sDet\r\n",
                "\tINNER JOIN [Northwind-2023].dbo.Orders sOrd\r\n",
                "\tON sDet.OrderID = sOrd.OrderID\r\n",
                "\tINNER JOIN dim.Calendar tCal\r\n",
                "\tON CAST(sOrd.OrderDate as DATE) = tCal.DateValue\r\n",
                "\tINNER JOIN dim.Customers tCust\r\n",
                "\tON sOrd.CustomerID = tCust.CustomerID\r\n",
                ";\r\n",
                "\r\n",
                ""
            ],
            "metadata": {
                "azdata_cell_guid": "20ee0fb4-ea3d-45ae-a9b1-ae14bd581387",
                "language": "sql"
            },
            "outputs": [
                {
                    "output_type": "display_data",
                    "data": {
                        "text/html": "Commands completed successfully."
                    },
                    "metadata": {}
                },
                {
                    "output_type": "display_data",
                    "data": {
                        "text/html": "(2155 rows affected)"
                    },
                    "metadata": {}
                },
                {
                    "output_type": "display_data",
                    "data": {
                        "text/html": "Total execution time: 00:00:00.049"
                    },
                    "metadata": {}
                }
            ],
            "execution_count": 30
        }
    ]
}